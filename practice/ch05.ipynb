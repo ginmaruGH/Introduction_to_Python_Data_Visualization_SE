{
 "cells": [
  {
   "cell_type": "markdown",
   "metadata": {},
   "source": [
    "# Python データビジュアライゼーション入門\n",
    "\n",
    "## Ch.05 さまざまなグラフ・チャートによるビジュアライゼーション\n",
    "\n",
    "- Sec.01 グラフやチャートで利用するライブラリ\n",
    "- Sec.02 ヒストグラム\n",
    "- Sec.03 ボックスプロット\n",
    "- Sec.04 散布図\n",
    "- Sec.05 バブルチャート\n",
    "- Sec.06 散布図行列\n",
    "- Sec.07 ジョイントプロット\n",
    "- Sec.08 質的変数のプロット\n",
    "- Sec.09 平行座標プロット\n",
    "- Sec.10 縦棒グラフ\n",
    "- Sec.11 横棒グラフ\n",
    "- Sec.12 円グラフ\n",
    "- Sec.13ドーナツグラフ\n",
    "- Sec.14折れ線グラフ\n",
    "- Sec.15ヒートマップ\n",
    "- Sec.16ウォーターフォールチャート\n",
    "- Sec.17ツリーマップ\n",
    "- Sec.18サンバーストチャート\n",
    "- Sec.19レーダーチャート"
   ]
  },
  {
   "cell_type": "code",
   "execution_count": null,
   "metadata": {},
   "outputs": [],
   "source": [
    "# ライブラリのインポート\n",
    "%matplotlib inline\n",
    "import numpy as np\n",
    "import pandas as pd\n",
    "import matplotlib.pyplot as plt\n",
    "import seaborn as sns\n",
    "\n",
    "import plotly.offline\n",
    "import plotly.exceptions as ex\n",
    "import plotly.graph_objects as go\n",
    "import plotly.subplots\n",
    "import squarify"
   ]
  }
 ],
 "metadata": {
  "kernelspec": {
   "display_name": "Python 3.10.8 ('venv': venv)",
   "language": "python",
   "name": "python3"
  },
  "language_info": {
   "name": "python",
   "version": "3.10.8"
  },
  "orig_nbformat": 4,
  "vscode": {
   "interpreter": {
    "hash": "631b0abeda74a81ceba7a633e9126da7ef833e8c7268a6504b825580969e1cb7"
   }
  }
 },
 "nbformat": 4,
 "nbformat_minor": 2
}
